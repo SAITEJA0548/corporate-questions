{
  "nbformat": 4,
  "nbformat_minor": 0,
  "metadata": {
    "colab": {
      "provenance": [],
      "authorship_tag": "ABX9TyPuI0HeyS2A8Oc7aNYWsdRW",
      "include_colab_link": true
    },
    "kernelspec": {
      "name": "python3",
      "display_name": "Python 3"
    },
    "language_info": {
      "name": "python"
    }
  },
  "cells": [
    {
      "cell_type": "markdown",
      "metadata": {
        "id": "view-in-github",
        "colab_type": "text"
      },
      "source": [
        "<a href=\"https://colab.research.google.com/github/SAITEJA0548/corporate-questions/blob/main/corporate_questions.ipynb\" target=\"_parent\"><img src=\"https://colab.research.google.com/assets/colab-badge.svg\" alt=\"Open In Colab\"/></a>"
      ]
    },
    {
      "cell_type": "code",
      "execution_count": 3,
      "metadata": {
        "colab": {
          "base_uri": "https://localhost:8080/"
        },
        "id": "pUaTg0GXSKvq",
        "outputId": "eacb49b9-2f0e-49f9-9894-f32dded4068b"
      },
      "outputs": [
        {
          "output_type": "stream",
          "name": "stdout",
          "text": [
            "Enter m value:2\n",
            "Enter n value:3\n",
            "sum of cubes from 2 to 3 = 35\n"
          ]
        }
      ],
      "source": [
        "# Python program to give sum of all cubes from m to n\n",
        "m=int(input(\"Enter m value:\"))\n",
        "n=int(input(\"Enter n value:\"))\n",
        "output=0\n",
        "if m>n :\n",
        "  print(\"Enter valid m,n values\")\n",
        "else:\n",
        "  for x in range(m,n+1):\n",
        "    output=output+x**3\n",
        "  print(f\"sum of cubes from {m} to {n} = {output}\")"
      ]
    },
    {
      "cell_type": "code",
      "source": [
        "# Python program to give product numbers from m to n\n",
        "m=int(input(\"Enter m value:\"))\n",
        "n=int(input(\"Enter n value:\"))\n",
        "if m>n :\n",
        "  print(\"Enter valid m,n values\")\n",
        "else:\n",
        "  output=1\n",
        "  for x in range(m,n+1):\n",
        "    output=output*x\n",
        "  print(f\"Product of integers from {m} to {n} = {output}\")"
      ],
      "metadata": {
        "colab": {
          "base_uri": "https://localhost:8080/"
        },
        "id": "1r6JZYnUSsux",
        "outputId": "5985cb3e-520a-4254-dccb-11a940812e08"
      },
      "execution_count": 5,
      "outputs": [
        {
          "output_type": "stream",
          "name": "stdout",
          "text": [
            "Enter m value:2\n",
            "Enter n value:3\n",
            "Product of integers from 2 to 3 = 6\n"
          ]
        }
      ]
    },
    {
      "cell_type": "code",
      "source": [
        "# Python program to give product of all even numbers from m to n\n",
        "m=int(input(\"Enter m value:\"))\n",
        "n=int(input(\"Enter n value:\"))\n",
        "if m>n :\n",
        "  print(\"Enter valid m,n values\")\n",
        "else:\n",
        "  output=1\n",
        "  for x in range(m,n+1):\n",
        "    if x%2==0:\n",
        "      output=output*x\n",
        "  print(f\"Product of even numbers from {m} to {n} = {output}\")"
      ],
      "metadata": {
        "colab": {
          "base_uri": "https://localhost:8080/"
        },
        "id": "VbqKoxH7StCO",
        "outputId": "729bcc32-33da-421c-bb6d-45bb1dea2871"
      },
      "execution_count": 7,
      "outputs": [
        {
          "output_type": "stream",
          "name": "stdout",
          "text": [
            "Enter m value:2\n",
            "Enter n value:3\n",
            "Product of even numbers from 2 to 3 = 2\n"
          ]
        }
      ]
    },
    {
      "cell_type": "code",
      "source": [
        "# Python program to give product of all odd numbers from m to n\n",
        "m=int(input(\"Enter m value:\"))\n",
        "n=int(input(\"Enter n value:\"))\n",
        "if m>n :\n",
        "  print(\"Enter valid m,n values\")\n",
        "else:\n",
        "  output=1\n",
        "  for x in range(m,n+1):\n",
        "    if x%2!=0:\n",
        "      output=output*x\n",
        "  print(f\"Product of odd numbers from {m} to {n} = {output}\")"
      ],
      "metadata": {
        "colab": {
          "base_uri": "https://localhost:8080/"
        },
        "id": "6Oegt2SRStEV",
        "outputId": "1f1a5526-4368-4d5a-b24a-1fdfb324218d"
      },
      "execution_count": 9,
      "outputs": [
        {
          "output_type": "stream",
          "name": "stdout",
          "text": [
            "Enter m value:1\n",
            "Enter n value:3\n",
            "Product of odd numbers from 1 to 3 = 3\n"
          ]
        }
      ]
    },
    {
      "cell_type": "code",
      "source": [
        "# Python program to give sum of all factorial numbers from m to n\n",
        "m=int(input(\"Enter m value:\"))\n",
        "n=int(input(\"Enter n value:\"))\n",
        "if m>n :\n",
        "  print(\"Enter valid m,n values\")\n",
        "else:\n",
        "  fact=0\n",
        "  fact1 = 1\n",
        "  for i in range(m,n+1):\n",
        "    for j in range (1,i+1):\n",
        "      fact1 = fact1*j\n",
        "    fact=fact+fact1\n",
        "    fact1=1\n",
        "  print(f\"sum of factorial numbers from {m} to {n} = {fact}\")"
      ],
      "metadata": {
        "colab": {
          "base_uri": "https://localhost:8080/"
        },
        "id": "qN11eCATStN-",
        "outputId": "7b15abed-8e94-4dc7-ccdc-3aeab1eb16b3"
      },
      "execution_count": 11,
      "outputs": [
        {
          "output_type": "stream",
          "name": "stdout",
          "text": [
            "Enter m value:3\n",
            "Enter n value:5\n",
            "sum of factorial numbers from 3 to 5 = 150\n"
          ]
        }
      ]
    },
    {
      "cell_type": "code",
      "source": [],
      "metadata": {
        "id": "mssYKYXkiPai"
      },
      "execution_count": null,
      "outputs": []
    }
  ]
}